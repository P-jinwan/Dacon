{
 "cells": [
  {
   "cell_type": "markdown",
   "id": "6c7726db",
   "metadata": {},
   "source": [
    "## [문자]청와대 청원 : 청원의 주제가 무엇일까?\n",
    "텍스트 데이터를 분석하여 청원 주제를 분류 해보세요.\n",
    "\n",
    "### 1. train.csv / test.csv\n",
    "- index: index\n",
    "- category: 청원 주제/범주\n",
    "- data: 청원 내용\n",
    "\n",
    "### 2. submission.csv (제출 파일 형식)\n",
    "\n",
    "### 3. 라벨 종류\n",
    "- 0 : 인권/성평등\n",
    "- 1 : 문화/예술/체육/언론\n",
    "- 2 : 육아/교육\n",
    "\n",
    "### NLP(자연어 처리)\n",
    "1. 한국어는 영어와 달리 단어별로 토큰화를 이루게 되면 해석이 달라지므로 ***형태소 토큰화***가 이루어져야 합니다.\n",
    "2. ex) 문장: 에디가 책을 읽었다.\n",
    " - 단어 토큰화: ['에디가', '책을', '읽었다']\n",
    " - 형태소 토큰화: 자립 형태소['에디', '책'], 의존 형태소['-가', '-을', '읽-', '-었', '-다']\n",
    "3. 전처리 과정에서 제거해야 하는 데이터는 '자연어가 아니면서 아무 의미도 갖지 않는 글자(특수 문자 등)와 분석하고자 하는 목적에 맞지 않는 불필요 단어들입니다.\n",
    "4. 한국어 전처리 패키지\n",
    " - PyKoSpacing: 띄어쓰기가 되어있지 않은 문장을 띄어쓰기를 한 문장으로 변환해주는 패키지입니다.\n",
    " - Py-Hanspell: 네이버의 '맞춤법 검사기' 바탕으로 만들어진 패키지로 띄어쓰기와 맞춤법을 지원합니다.\n",
    " - SOYNLP: 품사 태깅, 단어 토큰화 등을 지원하는 단어 토크나이저(단어 토큰화 모델)입니다.\n",
    " - "
   ]
  },
  {
   "cell_type": "markdown",
   "id": "ccc1ec34",
   "metadata": {},
   "source": [
    "#### `1.` 라이브러리 임포트"
   ]
  },
  {
   "cell_type": "code",
   "execution_count": 1,
   "id": "04e338e4",
   "metadata": {},
   "outputs": [],
   "source": [
    "import pandas as pd"
   ]
  },
  {
   "cell_type": "markdown",
   "id": "8b2a358d",
   "metadata": {},
   "source": [
    "#### `2.` 데이터 로드"
   ]
  },
  {
   "cell_type": "code",
   "execution_count": 2,
   "id": "de63fdc6",
   "metadata": {},
   "outputs": [],
   "source": [
    "train_data = pd.read_csv('./청와대 청원/train.csv')\n",
    "test_data = pd.read_csv('./청와대 청원/test.csv')\n",
    "submission_data = pd.read_csv('./청와대 청원/sample_submission.csv')"
   ]
  },
  {
   "cell_type": "markdown",
   "id": "30afc63e",
   "metadata": {},
   "source": [
    "#### `3.` 데이터 정보 확인"
   ]
  },
  {
   "cell_type": "code",
   "execution_count": 3,
   "id": "1791a172",
   "metadata": {},
   "outputs": [
    {
     "data": {
      "text/html": [
       "<div>\n",
       "<style scoped>\n",
       "    .dataframe tbody tr th:only-of-type {\n",
       "        vertical-align: middle;\n",
       "    }\n",
       "\n",
       "    .dataframe tbody tr th {\n",
       "        vertical-align: top;\n",
       "    }\n",
       "\n",
       "    .dataframe thead th {\n",
       "        text-align: right;\n",
       "    }\n",
       "</style>\n",
       "<table border=\"1\" class=\"dataframe\">\n",
       "  <thead>\n",
       "    <tr style=\"text-align: right;\">\n",
       "      <th></th>\n",
       "      <th>index</th>\n",
       "      <th>category</th>\n",
       "      <th>data</th>\n",
       "    </tr>\n",
       "  </thead>\n",
       "  <tbody>\n",
       "    <tr>\n",
       "      <th>0</th>\n",
       "      <td>0</td>\n",
       "      <td>2</td>\n",
       "      <td>신혼부부위한 주택정책 보다 보육시설 늘려주세요.. 국민세금으로 일부를 위한 정책펴지...</td>\n",
       "    </tr>\n",
       "    <tr>\n",
       "      <th>1</th>\n",
       "      <td>1</td>\n",
       "      <td>0</td>\n",
       "      <td>학교이름에 '남자'도 붙여주세요. 울산여자중학교에 재학중인 학생입니다 최근 양성평등...</td>\n",
       "    </tr>\n",
       "    <tr>\n",
       "      <th>2</th>\n",
       "      <td>2</td>\n",
       "      <td>1</td>\n",
       "      <td>빙상연맹, 대한축구협회등 각종 체육협회의 비리를 철저하게 밝혀주세요.. 최근 동계올...</td>\n",
       "    </tr>\n",
       "    <tr>\n",
       "      <th>3</th>\n",
       "      <td>3</td>\n",
       "      <td>1</td>\n",
       "      <td>티비 12세,15세 관람가도 연령확인 의무화 하자.. 제기 에전에 티비를 보다가 잠...</td>\n",
       "    </tr>\n",
       "    <tr>\n",
       "      <th>4</th>\n",
       "      <td>4</td>\n",
       "      <td>1</td>\n",
       "      <td>무더운 여름철엔 남성들도 시원한 자율복장을 해야. 무더운 여름철에는 남성들도 노넥타...</td>\n",
       "    </tr>\n",
       "  </tbody>\n",
       "</table>\n",
       "</div>"
      ],
      "text/plain": [
       "   index  category                                               data\n",
       "0      0         2  신혼부부위한 주택정책 보다 보육시설 늘려주세요.. 국민세금으로 일부를 위한 정책펴지...\n",
       "1      1         0  학교이름에 '남자'도 붙여주세요. 울산여자중학교에 재학중인 학생입니다 최근 양성평등...\n",
       "2      2         1  빙상연맹, 대한축구협회등 각종 체육협회의 비리를 철저하게 밝혀주세요.. 최근 동계올...\n",
       "3      3         1  티비 12세,15세 관람가도 연령확인 의무화 하자.. 제기 에전에 티비를 보다가 잠...\n",
       "4      4         1  무더운 여름철엔 남성들도 시원한 자율복장을 해야. 무더운 여름철에는 남성들도 노넥타..."
      ]
     },
     "metadata": {},
     "output_type": "display_data"
    },
    {
     "name": "stdout",
     "output_type": "stream",
     "text": [
      "<class 'pandas.core.frame.DataFrame'>\n",
      "RangeIndex: 40000 entries, 0 to 39999\n",
      "Data columns (total 3 columns):\n",
      " #   Column    Non-Null Count  Dtype \n",
      "---  ------    --------------  ----- \n",
      " 0   index     40000 non-null  int64 \n",
      " 1   category  40000 non-null  int64 \n",
      " 2   data      39992 non-null  object\n",
      "dtypes: int64(2), object(1)\n",
      "memory usage: 937.6+ KB\n",
      "train_data.info() None\n"
     ]
    },
    {
     "data": {
      "text/html": [
       "<div>\n",
       "<style scoped>\n",
       "    .dataframe tbody tr th:only-of-type {\n",
       "        vertical-align: middle;\n",
       "    }\n",
       "\n",
       "    .dataframe tbody tr th {\n",
       "        vertical-align: top;\n",
       "    }\n",
       "\n",
       "    .dataframe thead th {\n",
       "        text-align: right;\n",
       "    }\n",
       "</style>\n",
       "<table border=\"1\" class=\"dataframe\">\n",
       "  <thead>\n",
       "    <tr style=\"text-align: right;\">\n",
       "      <th></th>\n",
       "      <th>index</th>\n",
       "      <th>data</th>\n",
       "    </tr>\n",
       "  </thead>\n",
       "  <tbody>\n",
       "    <tr>\n",
       "      <th>0</th>\n",
       "      <td>0</td>\n",
       "      <td>소년법 폐지해주세요. 법 아래에서 보호받아야 할 아이들이\\n법으로 인해 보호받지 못...</td>\n",
       "    </tr>\n",
       "    <tr>\n",
       "      <th>1</th>\n",
       "      <td>1</td>\n",
       "      <td>국공립 유치원 증설에 관하여. 국공립 유치원 부지 학보와건립및 증설에\\n*지역 어린...</td>\n",
       "    </tr>\n",
       "    <tr>\n",
       "      <th>2</th>\n",
       "      <td>2</td>\n",
       "      <td>나경원파면. 나경원의원의  동계올림픽 위원을 파면해 주세요</td>\n",
       "    </tr>\n",
       "    <tr>\n",
       "      <th>3</th>\n",
       "      <td>3</td>\n",
       "      <td>국민위원에가 삼성편만들어요. 삼성에서 11년간  일하고 혈암과 백혈병 진단을 받은 ...</td>\n",
       "    </tr>\n",
       "    <tr>\n",
       "      <th>4</th>\n",
       "      <td>4</td>\n",
       "      <td>방과후,유치원,어린이집 영어교육을 유지시켜주세요. 저는 아이 셋 키우는 평범한 주부...</td>\n",
       "    </tr>\n",
       "  </tbody>\n",
       "</table>\n",
       "</div>"
      ],
      "text/plain": [
       "   index                                               data\n",
       "0      0  소년법 폐지해주세요. 법 아래에서 보호받아야 할 아이들이\\n법으로 인해 보호받지 못...\n",
       "1      1  국공립 유치원 증설에 관하여. 국공립 유치원 부지 학보와건립및 증설에\\n*지역 어린...\n",
       "2      2                   나경원파면. 나경원의원의  동계올림픽 위원을 파면해 주세요\n",
       "3      3  국민위원에가 삼성편만들어요. 삼성에서 11년간  일하고 혈암과 백혈병 진단을 받은 ...\n",
       "4      4  방과후,유치원,어린이집 영어교육을 유지시켜주세요. 저는 아이 셋 키우는 평범한 주부..."
      ]
     },
     "metadata": {},
     "output_type": "display_data"
    },
    {
     "name": "stdout",
     "output_type": "stream",
     "text": [
      "<class 'pandas.core.frame.DataFrame'>\n",
      "RangeIndex: 5000 entries, 0 to 4999\n",
      "Data columns (total 2 columns):\n",
      " #   Column  Non-Null Count  Dtype \n",
      "---  ------  --------------  ----- \n",
      " 0   index   5000 non-null   int64 \n",
      " 1   data    5000 non-null   object\n",
      "dtypes: int64(1), object(1)\n",
      "memory usage: 78.2+ KB\n",
      "test_data.info() None\n"
     ]
    },
    {
     "data": {
      "text/html": [
       "<div>\n",
       "<style scoped>\n",
       "    .dataframe tbody tr th:only-of-type {\n",
       "        vertical-align: middle;\n",
       "    }\n",
       "\n",
       "    .dataframe tbody tr th {\n",
       "        vertical-align: top;\n",
       "    }\n",
       "\n",
       "    .dataframe thead th {\n",
       "        text-align: right;\n",
       "    }\n",
       "</style>\n",
       "<table border=\"1\" class=\"dataframe\">\n",
       "  <thead>\n",
       "    <tr style=\"text-align: right;\">\n",
       "      <th></th>\n",
       "      <th>index</th>\n",
       "      <th>category</th>\n",
       "    </tr>\n",
       "  </thead>\n",
       "  <tbody>\n",
       "    <tr>\n",
       "      <th>0</th>\n",
       "      <td>0</td>\n",
       "      <td>0</td>\n",
       "    </tr>\n",
       "    <tr>\n",
       "      <th>1</th>\n",
       "      <td>1</td>\n",
       "      <td>0</td>\n",
       "    </tr>\n",
       "    <tr>\n",
       "      <th>2</th>\n",
       "      <td>2</td>\n",
       "      <td>0</td>\n",
       "    </tr>\n",
       "    <tr>\n",
       "      <th>3</th>\n",
       "      <td>3</td>\n",
       "      <td>0</td>\n",
       "    </tr>\n",
       "    <tr>\n",
       "      <th>4</th>\n",
       "      <td>4</td>\n",
       "      <td>0</td>\n",
       "    </tr>\n",
       "  </tbody>\n",
       "</table>\n",
       "</div>"
      ],
      "text/plain": [
       "   index  category\n",
       "0      0         0\n",
       "1      1         0\n",
       "2      2         0\n",
       "3      3         0\n",
       "4      4         0"
      ]
     },
     "metadata": {},
     "output_type": "display_data"
    },
    {
     "name": "stdout",
     "output_type": "stream",
     "text": [
      "<class 'pandas.core.frame.DataFrame'>\n",
      "RangeIndex: 5000 entries, 0 to 4999\n",
      "Data columns (total 2 columns):\n",
      " #   Column    Non-Null Count  Dtype\n",
      "---  ------    --------------  -----\n",
      " 0   index     5000 non-null   int64\n",
      " 1   category  5000 non-null   int64\n",
      "dtypes: int64(2)\n",
      "memory usage: 78.2 KB\n",
      "submission_data.info() None\n"
     ]
    }
   ],
   "source": [
    "display(train_data.head())\n",
    "print('train_data.info()', train_data.info())\n",
    "display(test_data.head())\n",
    "print('test_data.info()', test_data.info())\n",
    "display(submission_data.head())\n",
    "print('submission_data.info()', submission_data.info())"
   ]
  },
  {
   "cell_type": "markdown",
   "id": "5fcfe6c7",
   "metadata": {},
   "source": [
    "#### `4.` "
   ]
  },
  {
   "cell_type": "code",
   "execution_count": 7,
   "id": "0f3c7b16",
   "metadata": {},
   "outputs": [
    {
     "data": {
      "text/plain": [
       "array([[0, 2,\n",
       "        '신혼부부위한 주택정책 보다 보육시설 늘려주세요.. 국민세금으로 일부를 위한 정책펴지 마시고\\\\n보편적으로 모든국민이 수긍할  수 있는 복지정책 펴 주시길 바랍니다.\\\\n저도 신혼부부이지만 당첨되는 사람 로또되는 이런주택정책 반대합니다.\\\\n국민세금을 일부 사람들에게 퍼주기식이 되면 안되죠..\\\\n그 세금으로 우리아이 안전하게 맡길 수 있는 보육시설을 전국에 설치해 주세요..\\\\n대기업들은 솔선수범해서 모든 사업장에 의무설치 할 수 있도록 하시구요..\\\\n집 보다 애 맡길데가 없어 경력단절 되는게 더 괴롭습니다.!\\\\n집은 개인의 능력을 키워 사는게 맞습니다.\\\\n그 능력을 키울수 있도록 육아 전담에 힘을 기울이는게 맞습니다.\\\\n우리아이 부모가 키우는거 맞지만 이제는 국가가\\\\n책임지는 시대로 가는게 맞다고 봅니다.\\\\n그렇잖아도 부동산 가격 자꾸 올라가는게 정부정책이 잘못 되었다고 봅니다.\\\\n부동산은 그냥 내버려 두세요!  좀!\\\\n건들수록 역효과네요..'],\n",
       "       [1, 0,\n",
       "        \"학교이름에 '남자'도 붙여주세요. 울산여자중학교에 재학중인 학생입니다 최근 양성평등 글짓기를 하다 생각했습니다 우리 울산엔 '울산중학교'는 두개입니다 하나는 남중,하나는 여중인데 어째서 우리학교만 '여자'를 붙여야하는가 하고요 남자가 우위였던 때 지어졌던 학교라 그런진 모르겠지만 울산중학교(남중)에도 '남자'를 붙여 울산남자중학교가 되게 해주세요\\\\n평소에 학교이름을 줄여 부를때에도 우리학교는 울여중,남중은 그냥 울중 이라 부릅니다 몇년동안 그리 불러온, 너무나 익숙해진 이 현실을 이젠 바꿀때가 되지않았나 싶네요,,지금은 조선시대가 아니니까요\\\\n국내에 이런 학교는 널렸습니다 울산뿐만이 아니라 국내 다른 중/고등학교에 있는 똑같은 문제들을 해결해주셨으면 합니다...\"],\n",
       "       [2, 1,\n",
       "        '빙상연맹, 대한축구협회등 각종 체육협회의 비리를 철저하게 밝혀주세요.. 최근 동계올림픽에서 김보름, 박지우 선수와 관련해서 큰 논란거리가 되고 있는데요. 선수 개개인의 문제를 떠나서 이번일에 대해 대한빙상연맹의 불합리한 행정에 불신을 갖고있는 사람들이 많습니다. 이제 동계올림픽도 폐막일이 다가오고, 6월이 되면 러시아에서 4년마다 열리는 월드컵 축구대회가 열리는데요.  월드컵이 시작도 하기전부터 감독선임, 선수선발에 대해 우려의 목소리를 내는 사람들이 정말 많습니다.\\\\n아시아 최종예선 내내 기대이하의 경기력으로 실망스러운 모습을 보인건 둘째 치더라도 슈틸리케 감독을 경질하고, 2016 리우 올림픽 감독을 맡았던 신태용 감독을 A대표팀 감독에 앉히는 모습이 마치 2014 브라질 월드컵때 2012 런던 올림픽 감독이었던 홍명보 감독을 앉히는 모습과 모양새가 너무도 흡사하구요. 최근 평가전에서 김영권, 장현수등등 일부 경기력에 논란이 많은 선수들을 계속해서 기용하는 모습까지 4년전 실패와 아픔(선수단 귀국후 공항에서 엿세례)을 그대로 되풀이 하려는건가? 싶을 정도로 4년전과 모습이 너무나도 흡사합니다.\\\\n빙상연맹과 관련해서는 최근 많은 논란이 되고있고, 다른분들께서 많이 이야기해 주셨으니 더 이상 언급하지는 않겠습니다. 제가 하고 싶은 이야기는 이번일을 계기로 대한빙상연맹, 대한축구협회를 비롯한 각종 체육협회의 잘못된 비리, 부조리들을 철저하게 밝혀서 모든 스포츠에 있어서 감독선임부터 선수선발까지 모든 과정들이 인맥,파벌에 의하지 않고 공정하고 투명하게 이뤄질 수 있도록 힘써 주셨으면 합니다.'],\n",
       "       ...,\n",
       "       [39997, 2,\n",
       "        '무서운데 지켜야 할게 있어요 도와주세요. 안녕하세요 . 한부모엄마 입니다.\\\\n양육비를 받고 싶습니다.\\\\n양육비 안주는 부모는 부모인정을 하면 안된다고 생각합니다. 면접교섭도 마찬가지이구요.\\\\n아이의 미래가 아닌 현재를 만들어 주세요.\\\\n미래를 생각하기엔 저와 제 아이가 현실에 살아가기 버겁네요 .\\\\n강력한 처벌과 확실한 법으로 약자들을 지켜주세요 .\\\\n제발 제 아이가 잘 자랄수 있게 양육비 받고싶어요..\\\\n‘전남편한테 연락해서 받으면 되지’\\\\n라고 하는데 저는 연락처도 모를뿐더러 연락하기 무섭습니다. 연락하는 순간 저와 아이한테 불행이 다가올것같고 생각만으로도 손이 떨리네요.\\\\n용기내어 양육비이행관리원에 신청하고\\\\n결국 감치명령까지 했지만 감치는 되지 않았고\\\\n양육비이행관리원에 낸 제 서류들과 거기에 쏟아부은 시간과 기대 모든게 무너지는 것 같네요 .\\\\n전남편은 이혼한 후 면접교섭도 단 한번도 없었고 양육비도 단 한번도 준적이 없습니다.\\\\n허술한 법 안에서 요리조리 피하며 잘 살아가고 있겠지요.\\\\n아이를 버렸다는 표현말고는 떠오르는게 없네요.'],\n",
       "       [39998, 2,\n",
       "        '교복에  고정식 이름표를 달게 하는 것을 금지해 주세요.. 교복에 이름표를 박아놓아 탈부착을 할 수 없게 해 놓는 학교들이 있는데, 이를 금지해 주시길 청원합니다.\\\\n물론 학교 내에서 명찰을 다는 것의 긍정적 효과는 저도 교사를 해 봤기 때문에 잘 압니다.\\\\n하지만 학생들은 군인, 경찰관, 사회복무요원 등이 아닙니다.\\\\n등하교 길에 만나는 사람에게 학생들이 자신들의 이름을 노출할 이유는 하나도 없습니다.\\\\n이는 분명 개인정보 침해, 인권 침해를 학교가 강요하는 겁니다.\\\\n교복에 이름을 박아놓아 뗄 수 없게 하는 명찰 대신 탈부착이 가능한 명찰을 달게 하면\\\\n모든 긍정적 효과는 그대로 남고, 모든 부정적 효과는 사라집니다.\\\\n이 간단한 조치를 왜 안 하고, 학생들의 인권이 침해 받도록 하게 하는지 저는 좋게 이해할 수 없습니다.\\\\n작은 인권이라고 무시해서는 안 됩니다.'],\n",
       "       [39999, 0,\n",
       "        '합의성관계 가능 나이연령을 올리십시오. 제가 형법공부를하다가 문제를풀고있는데\\\\n금지착오부분에서 14세와 합의성관계가 가능하다는것을보고\\\\n처음엔 문제나 해설이 잘못된줄알았습니다\\\\n그러나 인터넷을찾아보고 13세이상 합의성관계 가능이라는\\\\n말을듣고 충격이었습니다\\\\n13세면 초6입니다 그럼아이들이 뭘안다고 합의성관계가\\\\n가능하다고 법에서는 말을하는겁니까..\\\\n17세라면 그나마 이해가조금은 가겠지만 중학생들 초등학생\\\\n들이 합의성관계가능이라니 이게 아이들을 지켜주기위한 법입니까? 도대체 생각이 있는건지 없는건지 잘모르겠네요\\\\n그래서 성관계 합의 가능 연령 나이를 19세나\\\\n못해도 17세는되어야 판단이 되지않을까요?']],\n",
       "      dtype=object)"
      ]
     },
     "execution_count": 7,
     "metadata": {},
     "output_type": "execute_result"
    }
   ],
   "source": [
    "# 데이터들의 값을 확인해 보면 '\\\\n'을 확인할 수 있다. 이는 이스케이프(Escape) 문자로 \\(backslash)를 앞에 붙여 php에\n",
    "# 정의되어 있는 원래의 의미를 벗어나는 문자이다. 여기서 '\\\\n'은 줄 바꿈을 의미한다.\n",
    "train_data.values"
   ]
  },
  {
   "cell_type": "code",
   "execution_count": null,
   "id": "afe4d75c",
   "metadata": {},
   "outputs": [],
   "source": []
  },
  {
   "cell_type": "code",
   "execution_count": null,
   "id": "0ffa864d",
   "metadata": {},
   "outputs": [],
   "source": []
  },
  {
   "cell_type": "markdown",
   "id": "8532c682",
   "metadata": {},
   "source": [
    "#### 참고 사이트\n",
    "1. https://wikidocs.net/book/2155\n",
    "2. https://www.itworld.co.kr/news/187793"
   ]
  },
  {
   "cell_type": "code",
   "execution_count": null,
   "id": "3a5e21ea",
   "metadata": {},
   "outputs": [],
   "source": []
  }
 ],
 "metadata": {
  "kernelspec": {
   "display_name": "Python 3 (ipykernel)",
   "language": "python",
   "name": "python3"
  },
  "language_info": {
   "codemirror_mode": {
    "name": "ipython",
    "version": 3
   },
   "file_extension": ".py",
   "mimetype": "text/x-python",
   "name": "python",
   "nbconvert_exporter": "python",
   "pygments_lexer": "ipython3",
   "version": "3.9.1"
  }
 },
 "nbformat": 4,
 "nbformat_minor": 5
}
